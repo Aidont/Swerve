{
  "nbformat": 4,
  "nbformat_minor": 0,
  "metadata": {
    "colab": {
      "provenance": []
    },
    "kernelspec": {
      "name": "python3",
      "display_name": "Python 3"
    },
    "language_info": {
      "name": "python"
    }
  },
  "cells": [
    {
      "cell_type": "code",
      "execution_count": 73,
      "metadata": {
        "id": "Fz1aEMldVKa9"
      },
      "outputs": [],
      "source": [
        "import torch\n",
        "import pandas as pd\n",
        "import matplotlib.pyplot as plt\n",
        "import numpy as np\n",
        "from torch.utils.data import TensorDataset, DataLoader"
      ]
    },
    {
      "cell_type": "code",
      "source": [
        "data = pd.read_csv('drive/MyDrive/EnemyData/enemy_training_data.csv')"
      ],
      "metadata": {
        "id": "MW5sL_wgXkFG"
      },
      "execution_count": 74,
      "outputs": []
    },
    {
      "cell_type": "code",
      "source": [
        "data.head()"
      ],
      "metadata": {
        "colab": {
          "base_uri": "https://localhost:8080/",
          "height": 206
        },
        "id": "GDFDvsTdXxZh",
        "outputId": "c43aa4a4-9645-4f09-8f00-2b7e00c2dee0"
      },
      "execution_count": 75,
      "outputs": [
        {
          "output_type": "execute_result",
          "data": {
            "text/plain": [
              "      dist_x  dist_y  playerVel  enemyVel\n",
              "0 -18.896393  -200.0   0.000000  0.557526\n",
              "1   0.153244  -200.0   0.000000  0.658462\n",
              "2   0.152924  -200.0   0.000000  0.658096\n",
              "3   1.378845  -200.0  -1.921112 -1.501373\n",
              "4  13.635193  -200.0  -1.964844 -1.551285"
            ],
            "text/html": [
              "\n",
              "  <div id=\"df-fd1b0ce7-ca7e-4f64-9388-ba822b2191dd\" class=\"colab-df-container\">\n",
              "    <div>\n",
              "<style scoped>\n",
              "    .dataframe tbody tr th:only-of-type {\n",
              "        vertical-align: middle;\n",
              "    }\n",
              "\n",
              "    .dataframe tbody tr th {\n",
              "        vertical-align: top;\n",
              "    }\n",
              "\n",
              "    .dataframe thead th {\n",
              "        text-align: right;\n",
              "    }\n",
              "</style>\n",
              "<table border=\"1\" class=\"dataframe\">\n",
              "  <thead>\n",
              "    <tr style=\"text-align: right;\">\n",
              "      <th></th>\n",
              "      <th>dist_x</th>\n",
              "      <th>dist_y</th>\n",
              "      <th>playerVel</th>\n",
              "      <th>enemyVel</th>\n",
              "    </tr>\n",
              "  </thead>\n",
              "  <tbody>\n",
              "    <tr>\n",
              "      <th>0</th>\n",
              "      <td>-18.896393</td>\n",
              "      <td>-200.0</td>\n",
              "      <td>0.000000</td>\n",
              "      <td>0.557526</td>\n",
              "    </tr>\n",
              "    <tr>\n",
              "      <th>1</th>\n",
              "      <td>0.153244</td>\n",
              "      <td>-200.0</td>\n",
              "      <td>0.000000</td>\n",
              "      <td>0.658462</td>\n",
              "    </tr>\n",
              "    <tr>\n",
              "      <th>2</th>\n",
              "      <td>0.152924</td>\n",
              "      <td>-200.0</td>\n",
              "      <td>0.000000</td>\n",
              "      <td>0.658096</td>\n",
              "    </tr>\n",
              "    <tr>\n",
              "      <th>3</th>\n",
              "      <td>1.378845</td>\n",
              "      <td>-200.0</td>\n",
              "      <td>-1.921112</td>\n",
              "      <td>-1.501373</td>\n",
              "    </tr>\n",
              "    <tr>\n",
              "      <th>4</th>\n",
              "      <td>13.635193</td>\n",
              "      <td>-200.0</td>\n",
              "      <td>-1.964844</td>\n",
              "      <td>-1.551285</td>\n",
              "    </tr>\n",
              "  </tbody>\n",
              "</table>\n",
              "</div>\n",
              "    <div class=\"colab-df-buttons\">\n",
              "\n",
              "  <div class=\"colab-df-container\">\n",
              "    <button class=\"colab-df-convert\" onclick=\"convertToInteractive('df-fd1b0ce7-ca7e-4f64-9388-ba822b2191dd')\"\n",
              "            title=\"Convert this dataframe to an interactive table.\"\n",
              "            style=\"display:none;\">\n",
              "\n",
              "  <svg xmlns=\"http://www.w3.org/2000/svg\" height=\"24px\" viewBox=\"0 -960 960 960\">\n",
              "    <path d=\"M120-120v-720h720v720H120Zm60-500h600v-160H180v160Zm220 220h160v-160H400v160Zm0 220h160v-160H400v160ZM180-400h160v-160H180v160Zm440 0h160v-160H620v160ZM180-180h160v-160H180v160Zm440 0h160v-160H620v160Z\"/>\n",
              "  </svg>\n",
              "    </button>\n",
              "\n",
              "  <style>\n",
              "    .colab-df-container {\n",
              "      display:flex;\n",
              "      gap: 12px;\n",
              "    }\n",
              "\n",
              "    .colab-df-convert {\n",
              "      background-color: #E8F0FE;\n",
              "      border: none;\n",
              "      border-radius: 50%;\n",
              "      cursor: pointer;\n",
              "      display: none;\n",
              "      fill: #1967D2;\n",
              "      height: 32px;\n",
              "      padding: 0 0 0 0;\n",
              "      width: 32px;\n",
              "    }\n",
              "\n",
              "    .colab-df-convert:hover {\n",
              "      background-color: #E2EBFA;\n",
              "      box-shadow: 0px 1px 2px rgba(60, 64, 67, 0.3), 0px 1px 3px 1px rgba(60, 64, 67, 0.15);\n",
              "      fill: #174EA6;\n",
              "    }\n",
              "\n",
              "    .colab-df-buttons div {\n",
              "      margin-bottom: 4px;\n",
              "    }\n",
              "\n",
              "    [theme=dark] .colab-df-convert {\n",
              "      background-color: #3B4455;\n",
              "      fill: #D2E3FC;\n",
              "    }\n",
              "\n",
              "    [theme=dark] .colab-df-convert:hover {\n",
              "      background-color: #434B5C;\n",
              "      box-shadow: 0px 1px 3px 1px rgba(0, 0, 0, 0.15);\n",
              "      filter: drop-shadow(0px 1px 2px rgba(0, 0, 0, 0.3));\n",
              "      fill: #FFFFFF;\n",
              "    }\n",
              "  </style>\n",
              "\n",
              "    <script>\n",
              "      const buttonEl =\n",
              "        document.querySelector('#df-fd1b0ce7-ca7e-4f64-9388-ba822b2191dd button.colab-df-convert');\n",
              "      buttonEl.style.display =\n",
              "        google.colab.kernel.accessAllowed ? 'block' : 'none';\n",
              "\n",
              "      async function convertToInteractive(key) {\n",
              "        const element = document.querySelector('#df-fd1b0ce7-ca7e-4f64-9388-ba822b2191dd');\n",
              "        const dataTable =\n",
              "          await google.colab.kernel.invokeFunction('convertToInteractive',\n",
              "                                                    [key], {});\n",
              "        if (!dataTable) return;\n",
              "\n",
              "        const docLinkHtml = 'Like what you see? Visit the ' +\n",
              "          '<a target=\"_blank\" href=https://colab.research.google.com/notebooks/data_table.ipynb>data table notebook</a>'\n",
              "          + ' to learn more about interactive tables.';\n",
              "        element.innerHTML = '';\n",
              "        dataTable['output_type'] = 'display_data';\n",
              "        await google.colab.output.renderOutput(dataTable, element);\n",
              "        const docLink = document.createElement('div');\n",
              "        docLink.innerHTML = docLinkHtml;\n",
              "        element.appendChild(docLink);\n",
              "      }\n",
              "    </script>\n",
              "  </div>\n",
              "\n",
              "\n",
              "    <div id=\"df-692c1d31-4f5d-4e17-98ba-75d743f95ed6\">\n",
              "      <button class=\"colab-df-quickchart\" onclick=\"quickchart('df-692c1d31-4f5d-4e17-98ba-75d743f95ed6')\"\n",
              "                title=\"Suggest charts\"\n",
              "                style=\"display:none;\">\n",
              "\n",
              "<svg xmlns=\"http://www.w3.org/2000/svg\" height=\"24px\"viewBox=\"0 0 24 24\"\n",
              "     width=\"24px\">\n",
              "    <g>\n",
              "        <path d=\"M19 3H5c-1.1 0-2 .9-2 2v14c0 1.1.9 2 2 2h14c1.1 0 2-.9 2-2V5c0-1.1-.9-2-2-2zM9 17H7v-7h2v7zm4 0h-2V7h2v10zm4 0h-2v-4h2v4z\"/>\n",
              "    </g>\n",
              "</svg>\n",
              "      </button>\n",
              "\n",
              "<style>\n",
              "  .colab-df-quickchart {\n",
              "      --bg-color: #E8F0FE;\n",
              "      --fill-color: #1967D2;\n",
              "      --hover-bg-color: #E2EBFA;\n",
              "      --hover-fill-color: #174EA6;\n",
              "      --disabled-fill-color: #AAA;\n",
              "      --disabled-bg-color: #DDD;\n",
              "  }\n",
              "\n",
              "  [theme=dark] .colab-df-quickchart {\n",
              "      --bg-color: #3B4455;\n",
              "      --fill-color: #D2E3FC;\n",
              "      --hover-bg-color: #434B5C;\n",
              "      --hover-fill-color: #FFFFFF;\n",
              "      --disabled-bg-color: #3B4455;\n",
              "      --disabled-fill-color: #666;\n",
              "  }\n",
              "\n",
              "  .colab-df-quickchart {\n",
              "    background-color: var(--bg-color);\n",
              "    border: none;\n",
              "    border-radius: 50%;\n",
              "    cursor: pointer;\n",
              "    display: none;\n",
              "    fill: var(--fill-color);\n",
              "    height: 32px;\n",
              "    padding: 0;\n",
              "    width: 32px;\n",
              "  }\n",
              "\n",
              "  .colab-df-quickchart:hover {\n",
              "    background-color: var(--hover-bg-color);\n",
              "    box-shadow: 0 1px 2px rgba(60, 64, 67, 0.3), 0 1px 3px 1px rgba(60, 64, 67, 0.15);\n",
              "    fill: var(--button-hover-fill-color);\n",
              "  }\n",
              "\n",
              "  .colab-df-quickchart-complete:disabled,\n",
              "  .colab-df-quickchart-complete:disabled:hover {\n",
              "    background-color: var(--disabled-bg-color);\n",
              "    fill: var(--disabled-fill-color);\n",
              "    box-shadow: none;\n",
              "  }\n",
              "\n",
              "  .colab-df-spinner {\n",
              "    border: 2px solid var(--fill-color);\n",
              "    border-color: transparent;\n",
              "    border-bottom-color: var(--fill-color);\n",
              "    animation:\n",
              "      spin 1s steps(1) infinite;\n",
              "  }\n",
              "\n",
              "  @keyframes spin {\n",
              "    0% {\n",
              "      border-color: transparent;\n",
              "      border-bottom-color: var(--fill-color);\n",
              "      border-left-color: var(--fill-color);\n",
              "    }\n",
              "    20% {\n",
              "      border-color: transparent;\n",
              "      border-left-color: var(--fill-color);\n",
              "      border-top-color: var(--fill-color);\n",
              "    }\n",
              "    30% {\n",
              "      border-color: transparent;\n",
              "      border-left-color: var(--fill-color);\n",
              "      border-top-color: var(--fill-color);\n",
              "      border-right-color: var(--fill-color);\n",
              "    }\n",
              "    40% {\n",
              "      border-color: transparent;\n",
              "      border-right-color: var(--fill-color);\n",
              "      border-top-color: var(--fill-color);\n",
              "    }\n",
              "    60% {\n",
              "      border-color: transparent;\n",
              "      border-right-color: var(--fill-color);\n",
              "    }\n",
              "    80% {\n",
              "      border-color: transparent;\n",
              "      border-right-color: var(--fill-color);\n",
              "      border-bottom-color: var(--fill-color);\n",
              "    }\n",
              "    90% {\n",
              "      border-color: transparent;\n",
              "      border-bottom-color: var(--fill-color);\n",
              "    }\n",
              "  }\n",
              "</style>\n",
              "\n",
              "      <script>\n",
              "        async function quickchart(key) {\n",
              "          const quickchartButtonEl =\n",
              "            document.querySelector('#' + key + ' button');\n",
              "          quickchartButtonEl.disabled = true;  // To prevent multiple clicks.\n",
              "          quickchartButtonEl.classList.add('colab-df-spinner');\n",
              "          try {\n",
              "            const charts = await google.colab.kernel.invokeFunction(\n",
              "                'suggestCharts', [key], {});\n",
              "          } catch (error) {\n",
              "            console.error('Error during call to suggestCharts:', error);\n",
              "          }\n",
              "          quickchartButtonEl.classList.remove('colab-df-spinner');\n",
              "          quickchartButtonEl.classList.add('colab-df-quickchart-complete');\n",
              "        }\n",
              "        (() => {\n",
              "          let quickchartButtonEl =\n",
              "            document.querySelector('#df-692c1d31-4f5d-4e17-98ba-75d743f95ed6 button');\n",
              "          quickchartButtonEl.style.display =\n",
              "            google.colab.kernel.accessAllowed ? 'block' : 'none';\n",
              "        })();\n",
              "      </script>\n",
              "    </div>\n",
              "\n",
              "    </div>\n",
              "  </div>\n"
            ],
            "application/vnd.google.colaboratory.intrinsic+json": {
              "type": "dataframe",
              "variable_name": "data",
              "summary": "{\n  \"name\": \"data\",\n  \"rows\": 764,\n  \"fields\": [\n    {\n      \"column\": \"dist_x\",\n      \"properties\": {\n        \"dtype\": \"number\",\n        \"std\": 116.71205265554092,\n        \"min\": -370.77643,\n        \"max\": 303.6198,\n        \"num_unique_values\": 764,\n        \"samples\": [\n          -72.17166,\n          -135.97879,\n          165.57278\n        ],\n        \"semantic_type\": \"\",\n        \"description\": \"\"\n      }\n    },\n    {\n      \"column\": \"dist_y\",\n      \"properties\": {\n        \"dtype\": \"number\",\n        \"std\": 171.03849867133235,\n        \"min\": -435.74524,\n        \"max\": 288.6549,\n        \"num_unique_values\": 530,\n        \"samples\": [\n          -139.66032,\n          -291.69092,\n          -231.79016\n        ],\n        \"semantic_type\": \"\",\n        \"description\": \"\"\n      }\n    },\n    {\n      \"column\": \"playerVel\",\n      \"properties\": {\n        \"dtype\": \"number\",\n        \"std\": 1.9306660114376406,\n        \"min\": -2.3826904,\n        \"max\": 2.7633057,\n        \"num_unique_values\": 681,\n        \"samples\": [\n          -2.017517,\n          2.0065918,\n          -2.0462646\n        ],\n        \"semantic_type\": \"\",\n        \"description\": \"\"\n      }\n    },\n    {\n      \"column\": \"enemyVel\",\n      \"properties\": {\n        \"dtype\": \"number\",\n        \"std\": 1.433995839613525,\n        \"min\": -4.7884216,\n        \"max\": 6.328659,\n        \"num_unique_values\": 761,\n        \"samples\": [\n          -1.479248,\n          1.5639648,\n          -0.9827881\n        ],\n        \"semantic_type\": \"\",\n        \"description\": \"\"\n      }\n    }\n  ]\n}"
            }
          },
          "metadata": {},
          "execution_count": 75
        }
      ]
    },
    {
      "cell_type": "code",
      "source": [
        "data = torch.tensor(data.values, dtype=torch.float32)"
      ],
      "metadata": {
        "id": "-b8hR2LDYGvO"
      },
      "execution_count": 76,
      "outputs": []
    },
    {
      "cell_type": "code",
      "source": [
        "X_train = data[:,:3]\n",
        "Y_train = data[:, 3]"
      ],
      "metadata": {
        "id": "osuH7_9kYbpb"
      },
      "execution_count": 77,
      "outputs": []
    },
    {
      "cell_type": "code",
      "source": [
        "X_mean = X_train.mean()\n",
        "Y_mean = Y_train.mean()\n",
        "X_std = X_train.std()\n",
        "Y_std = Y_train.std()"
      ],
      "metadata": {
        "collapsed": true,
        "id": "XGH1zwtxYs3u"
      },
      "execution_count": 78,
      "outputs": []
    },
    {
      "cell_type": "code",
      "source": [
        "X_train = (X_train - X_mean) / X_std\n",
        "Y_train = (Y_train - Y_mean) / Y_std"
      ],
      "metadata": {
        "id": "oTe4o4w9Zw6O"
      },
      "execution_count": 80,
      "outputs": []
    },
    {
      "cell_type": "code",
      "source": [
        "lr = 0.01"
      ],
      "metadata": {
        "id": "HlJTVK-vbQcx"
      },
      "execution_count": 82,
      "outputs": []
    },
    {
      "cell_type": "code",
      "source": [
        "def makeParam(*shape):\n",
        "  return torch.normal(0.1, 0.3, shape, requires_grad=True)"
      ],
      "metadata": {
        "id": "f3IXpD11bYtS"
      },
      "execution_count": 83,
      "outputs": []
    },
    {
      "cell_type": "code",
      "source": [
        "hidden = 20\n",
        "\n",
        "w1 = makeParam(3, hidden)\n",
        "b1 = makeParam(hidden)\n",
        "w2 = makeParam(hidden, 1)\n",
        "b2 = makeParam(1)"
      ],
      "metadata": {
        "id": "i3AWmQyWbTa0"
      },
      "execution_count": 96,
      "outputs": []
    },
    {
      "cell_type": "code",
      "source": [
        "def model(x):\n",
        "  l1 = x@w1+b1\n",
        "  l1 = torch.relu(l1)\n",
        "  l2 = l1@w2+b2\n",
        "  return l2"
      ],
      "metadata": {
        "id": "hSGwzUTUcC41"
      },
      "execution_count": 85,
      "outputs": []
    },
    {
      "cell_type": "code",
      "source": [
        "def loss(y_pred, y):\n",
        "  return ((y-y_pred)**2).mean()"
      ],
      "metadata": {
        "id": "TBjDKyizcXD-"
      },
      "execution_count": 86,
      "outputs": []
    },
    {
      "cell_type": "code",
      "source": [
        "def update():\n",
        "  global w1, w2, b1, b2\n",
        "\n",
        "  with torch.no_grad():\n",
        "    w1 -= w1.grad*lr\n",
        "    w2 -= w2.grad*lr\n",
        "    b1 -= b1.grad*lr\n",
        "    b2 -= b2.grad*lr\n",
        "\n",
        "  w1.grad.zero_()\n",
        "  w2.grad.zero_()\n",
        "  b1.grad.zero_()\n",
        "  b2.grad.zero_()"
      ],
      "metadata": {
        "id": "d77c-SpbdIbT"
      },
      "execution_count": 87,
      "outputs": []
    },
    {
      "cell_type": "code",
      "source": [
        "losses = []"
      ],
      "metadata": {
        "id": "eRXmdx377pob"
      },
      "execution_count": 95,
      "outputs": []
    },
    {
      "cell_type": "code",
      "source": [
        "\n",
        "for i in range(500):\n",
        "  pred = model(X_train)\n",
        "\n",
        "  l = loss(pred, Y_train)\n",
        "  l.backward()\n",
        "\n",
        "  update()\n",
        "  losses.append(l.item())"
      ],
      "metadata": {
        "id": "7PlpSDTddmde"
      },
      "execution_count": 97,
      "outputs": []
    },
    {
      "cell_type": "code",
      "source": [
        "plt.plot(losses)\n",
        "plt.xlabel('Epoch')\n",
        "plt.ylabel('Loss (MSE)')\n",
        "plt.title('Training Loss over Epochs')\n",
        "plt.grid(True)\n",
        "plt.show()\n"
      ],
      "metadata": {
        "colab": {
          "base_uri": "https://localhost:8080/",
          "height": 472
        },
        "id": "xdf2fGxG7l1U",
        "outputId": "c3efe680-eb27-46fb-816f-78cef0b3ef93"
      },
      "execution_count": 98,
      "outputs": [
        {
          "output_type": "display_data",
          "data": {
            "text/plain": [
              "<Figure size 640x480 with 1 Axes>"
            ],
            "image/png": "[encoded data removed]"
          },
          "metadata": {}
        }
      ]
    },
    {
      "cell_type": "code",
      "source": [
        "np.savetxt('w1.csv', w1.detach(), delimiter=',')\n",
        "np.savetxt('b1.csv', b1.detach(), delimiter=',')\n",
        "np.savetxt('w2.csv', w2.detach(), delimiter=',')\n",
        "np.savetxt('b2.csv', b2.detach(), delimiter=',')\n",
        "\n",
        "np.savetxt('X_mean.csv', X_mean.unsqueeze(0), delimiter=',')\n",
        "np.savetxt('X_std.csv', X_std.unsqueeze(0), delimiter=',')\n",
        "np.savetxt('Y_mean.csv', Y_mean.unsqueeze(0), delimiter=',')\n",
        "np.savetxt('Y_std.csv', Y_std.unsqueeze(0), delimiter=',')"
      ],
      "metadata": {
        "id": "_aU4xgHhCWMh"
      },
      "execution_count": 99,
      "outputs": []
    }
  ]
}